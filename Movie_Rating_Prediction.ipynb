{
 "cells": [
  {
   "cell_type": "markdown",
   "metadata": {},
   "source": [
    "# 1. Import the necessary libraries"
   ]
  },
  {
   "cell_type": "code",
   "execution_count": 541,
   "metadata": {},
   "outputs": [],
   "source": [
    "# Import the necessary libraries\n",
    "# import libraries\n",
    "import pandas as pd\n",
    "import numpy as np\n",
    "import seaborn as sns\n",
    "import matplotlib.pyplot as plt\n",
    "import plotly as px"
   ]
  },
  {
   "cell_type": "markdown",
   "metadata": {},
   "source": [
    "# 2. Load the Data Set"
   ]
  },
  {
   "cell_type": "markdown",
   "metadata": {},
   "source": [
    "MOVIE RATING PREDICTION WITH PYTHON\n",
    "Build a model that predicts the rating of a movie based on\n",
    "features like genre, director, and actors. You can use regression\n",
    "techniques to tackle this problem.\n",
    "\n",
    "The goal is to analyze historical movie data and develop a model\n",
    "that accurately estimates the rating given to a movie by users or\n",
    "critics.\n",
    "\n",
    "Movie Rating Prediction project enables you to explore data\n",
    "analysis, preprocessing, feature engineering, and machine\n",
    "learning modeling techniques. It provides insights into the factors\n",
    "that influence movie ratings and allows you to build a model that\n",
    "can estimate the ratings of movies accurately.\n"
   ]
  },
  {
   "cell_type": "code",
   "execution_count": 571,
   "metadata": {},
   "outputs": [
    {
     "data": {
      "text/html": [
       "<div>\n",
       "<style scoped>\n",
       "    .dataframe tbody tr th:only-of-type {\n",
       "        vertical-align: middle;\n",
       "    }\n",
       "\n",
       "    .dataframe tbody tr th {\n",
       "        vertical-align: top;\n",
       "    }\n",
       "\n",
       "    .dataframe thead th {\n",
       "        text-align: right;\n",
       "    }\n",
       "</style>\n",
       "<table border=\"1\" class=\"dataframe\">\n",
       "  <thead>\n",
       "    <tr style=\"text-align: right;\">\n",
       "      <th></th>\n",
       "      <th>Name</th>\n",
       "      <th>Year</th>\n",
       "      <th>Duration</th>\n",
       "      <th>Genre</th>\n",
       "      <th>Rating</th>\n",
       "      <th>Votes</th>\n",
       "      <th>Director</th>\n",
       "      <th>Actor 1</th>\n",
       "      <th>Actor 2</th>\n",
       "      <th>Actor 3</th>\n",
       "    </tr>\n",
       "  </thead>\n",
       "  <tbody>\n",
       "    <tr>\n",
       "      <th>0</th>\n",
       "      <td></td>\n",
       "      <td>NaN</td>\n",
       "      <td>NaN</td>\n",
       "      <td>Drama</td>\n",
       "      <td>NaN</td>\n",
       "      <td>NaN</td>\n",
       "      <td>J.S. Randhawa</td>\n",
       "      <td>Manmauji</td>\n",
       "      <td>Birbal</td>\n",
       "      <td>Rajendra Bhatia</td>\n",
       "    </tr>\n",
       "    <tr>\n",
       "      <th>1</th>\n",
       "      <td>#Gadhvi (He thought he was Gandhi)</td>\n",
       "      <td>(2019)</td>\n",
       "      <td>109 min</td>\n",
       "      <td>Drama</td>\n",
       "      <td>7.0</td>\n",
       "      <td>8</td>\n",
       "      <td>Gaurav Bakshi</td>\n",
       "      <td>Rasika Dugal</td>\n",
       "      <td>Vivek Ghamande</td>\n",
       "      <td>Arvind Jangid</td>\n",
       "    </tr>\n",
       "    <tr>\n",
       "      <th>2</th>\n",
       "      <td>#Homecoming</td>\n",
       "      <td>(2021)</td>\n",
       "      <td>90 min</td>\n",
       "      <td>Drama, Musical</td>\n",
       "      <td>NaN</td>\n",
       "      <td>NaN</td>\n",
       "      <td>Soumyajit Majumdar</td>\n",
       "      <td>Sayani Gupta</td>\n",
       "      <td>Plabita Borthakur</td>\n",
       "      <td>Roy Angana</td>\n",
       "    </tr>\n",
       "    <tr>\n",
       "      <th>3</th>\n",
       "      <td>#Yaaram</td>\n",
       "      <td>(2019)</td>\n",
       "      <td>110 min</td>\n",
       "      <td>Comedy, Romance</td>\n",
       "      <td>4.4</td>\n",
       "      <td>35</td>\n",
       "      <td>Ovais Khan</td>\n",
       "      <td>Prateik</td>\n",
       "      <td>Ishita Raj</td>\n",
       "      <td>Siddhant Kapoor</td>\n",
       "    </tr>\n",
       "    <tr>\n",
       "      <th>4</th>\n",
       "      <td>...And Once Again</td>\n",
       "      <td>(2010)</td>\n",
       "      <td>105 min</td>\n",
       "      <td>Drama</td>\n",
       "      <td>NaN</td>\n",
       "      <td>NaN</td>\n",
       "      <td>Amol Palekar</td>\n",
       "      <td>Rajat Kapoor</td>\n",
       "      <td>Rituparna Sengupta</td>\n",
       "      <td>Antara Mali</td>\n",
       "    </tr>\n",
       "    <tr>\n",
       "      <th>...</th>\n",
       "      <td>...</td>\n",
       "      <td>...</td>\n",
       "      <td>...</td>\n",
       "      <td>...</td>\n",
       "      <td>...</td>\n",
       "      <td>...</td>\n",
       "      <td>...</td>\n",
       "      <td>...</td>\n",
       "      <td>...</td>\n",
       "      <td>...</td>\n",
       "    </tr>\n",
       "    <tr>\n",
       "      <th>15504</th>\n",
       "      <td>Zulm Ko Jala Doonga</td>\n",
       "      <td>(1988)</td>\n",
       "      <td>NaN</td>\n",
       "      <td>Action</td>\n",
       "      <td>4.6</td>\n",
       "      <td>11</td>\n",
       "      <td>Mahendra Shah</td>\n",
       "      <td>Naseeruddin Shah</td>\n",
       "      <td>Sumeet Saigal</td>\n",
       "      <td>Suparna Anand</td>\n",
       "    </tr>\n",
       "    <tr>\n",
       "      <th>15505</th>\n",
       "      <td>Zulmi</td>\n",
       "      <td>(1999)</td>\n",
       "      <td>129 min</td>\n",
       "      <td>Action, Drama</td>\n",
       "      <td>4.5</td>\n",
       "      <td>655</td>\n",
       "      <td>Kuku Kohli</td>\n",
       "      <td>Akshay Kumar</td>\n",
       "      <td>Twinkle Khanna</td>\n",
       "      <td>Aruna Irani</td>\n",
       "    </tr>\n",
       "    <tr>\n",
       "      <th>15506</th>\n",
       "      <td>Zulmi Raj</td>\n",
       "      <td>(2005)</td>\n",
       "      <td>NaN</td>\n",
       "      <td>Action</td>\n",
       "      <td>NaN</td>\n",
       "      <td>NaN</td>\n",
       "      <td>Kiran Thej</td>\n",
       "      <td>Sangeeta Tiwari</td>\n",
       "      <td>NaN</td>\n",
       "      <td>NaN</td>\n",
       "    </tr>\n",
       "    <tr>\n",
       "      <th>15507</th>\n",
       "      <td>Zulmi Shikari</td>\n",
       "      <td>(1988)</td>\n",
       "      <td>NaN</td>\n",
       "      <td>Action</td>\n",
       "      <td>NaN</td>\n",
       "      <td>NaN</td>\n",
       "      <td>NaN</td>\n",
       "      <td>NaN</td>\n",
       "      <td>NaN</td>\n",
       "      <td>NaN</td>\n",
       "    </tr>\n",
       "    <tr>\n",
       "      <th>15508</th>\n",
       "      <td>Zulm-O-Sitam</td>\n",
       "      <td>(1998)</td>\n",
       "      <td>130 min</td>\n",
       "      <td>Action, Drama</td>\n",
       "      <td>6.2</td>\n",
       "      <td>20</td>\n",
       "      <td>K.C. Bokadia</td>\n",
       "      <td>Dharmendra</td>\n",
       "      <td>Jaya Prada</td>\n",
       "      <td>Arjun Sarja</td>\n",
       "    </tr>\n",
       "  </tbody>\n",
       "</table>\n",
       "<p>15509 rows × 10 columns</p>\n",
       "</div>"
      ],
      "text/plain": [
       "                                     Name    Year Duration            Genre  \\\n",
       "0                                             NaN      NaN            Drama   \n",
       "1      #Gadhvi (He thought he was Gandhi)  (2019)  109 min            Drama   \n",
       "2                             #Homecoming  (2021)   90 min   Drama, Musical   \n",
       "3                                 #Yaaram  (2019)  110 min  Comedy, Romance   \n",
       "4                       ...And Once Again  (2010)  105 min            Drama   \n",
       "...                                   ...     ...      ...              ...   \n",
       "15504                 Zulm Ko Jala Doonga  (1988)      NaN           Action   \n",
       "15505                               Zulmi  (1999)  129 min    Action, Drama   \n",
       "15506                           Zulmi Raj  (2005)      NaN           Action   \n",
       "15507                       Zulmi Shikari  (1988)      NaN           Action   \n",
       "15508                        Zulm-O-Sitam  (1998)  130 min    Action, Drama   \n",
       "\n",
       "       Rating Votes            Director           Actor 1             Actor 2  \\\n",
       "0         NaN   NaN       J.S. Randhawa          Manmauji              Birbal   \n",
       "1         7.0     8       Gaurav Bakshi      Rasika Dugal      Vivek Ghamande   \n",
       "2         NaN   NaN  Soumyajit Majumdar      Sayani Gupta   Plabita Borthakur   \n",
       "3         4.4    35          Ovais Khan           Prateik          Ishita Raj   \n",
       "4         NaN   NaN        Amol Palekar      Rajat Kapoor  Rituparna Sengupta   \n",
       "...       ...   ...                 ...               ...                 ...   \n",
       "15504     4.6    11       Mahendra Shah  Naseeruddin Shah       Sumeet Saigal   \n",
       "15505     4.5   655          Kuku Kohli      Akshay Kumar      Twinkle Khanna   \n",
       "15506     NaN   NaN          Kiran Thej   Sangeeta Tiwari                 NaN   \n",
       "15507     NaN   NaN                 NaN               NaN                 NaN   \n",
       "15508     6.2    20        K.C. Bokadia        Dharmendra          Jaya Prada   \n",
       "\n",
       "               Actor 3  \n",
       "0      Rajendra Bhatia  \n",
       "1        Arvind Jangid  \n",
       "2           Roy Angana  \n",
       "3      Siddhant Kapoor  \n",
       "4          Antara Mali  \n",
       "...                ...  \n",
       "15504    Suparna Anand  \n",
       "15505      Aruna Irani  \n",
       "15506              NaN  \n",
       "15507              NaN  \n",
       "15508      Arjun Sarja  \n",
       "\n",
       "[15509 rows x 10 columns]"
      ]
     },
     "execution_count": 571,
     "metadata": {},
     "output_type": "execute_result"
    }
   ],
   "source": [
    "file_path = 'IMDb Movies India.csv'\n",
    "# Read the CSV file with a specific encoding (e.g., 'latin-1')\n",
    "df = pd.read_csv(file_path, encoding='latin-1')\n",
    "df"
   ]
  },
  {
   "cell_type": "markdown",
   "metadata": {},
   "source": [
    "# 3. Analyze the Data Set"
   ]
  },
  {
   "cell_type": "code",
   "execution_count": 543,
   "metadata": {},
   "outputs": [
    {
     "name": "stdout",
     "output_type": "stream",
     "text": [
      "<class 'pandas.core.frame.DataFrame'>\n",
      "RangeIndex: 15509 entries, 0 to 15508\n",
      "Data columns (total 10 columns):\n",
      " #   Column    Non-Null Count  Dtype  \n",
      "---  ------    --------------  -----  \n",
      " 0   Name      15509 non-null  object \n",
      " 1   Year      14981 non-null  object \n",
      " 2   Duration  7240 non-null   object \n",
      " 3   Genre     13632 non-null  object \n",
      " 4   Rating    7919 non-null   float64\n",
      " 5   Votes     7920 non-null   object \n",
      " 6   Director  14984 non-null  object \n",
      " 7   Actor 1   13892 non-null  object \n",
      " 8   Actor 2   13125 non-null  object \n",
      " 9   Actor 3   12365 non-null  object \n",
      "dtypes: float64(1), object(9)\n",
      "memory usage: 1.2+ MB\n"
     ]
    }
   ],
   "source": [
    "# Display information about the DataFrame\n",
    "df.info()\n",
    "# Remark: This line prints a concise summary of the DataFrame, including the column names, data types, and non-null values"
   ]
  },
  {
   "cell_type": "code",
   "execution_count": 544,
   "metadata": {},
   "outputs": [
    {
     "data": {
      "text/plain": [
       "Name        13838\n",
       "Year          102\n",
       "Duration      182\n",
       "Genre         485\n",
       "Rating         84\n",
       "Votes        2034\n",
       "Director     5938\n",
       "Actor 1      4718\n",
       "Actor 2      4891\n",
       "Actor 3      4820\n",
       "dtype: int64"
      ]
     },
     "execution_count": 544,
     "metadata": {},
     "output_type": "execute_result"
    }
   ],
   "source": [
    "# Calculate the number of unique values in each column of the DataFrame\n",
    "df.nunique()"
   ]
  },
  {
   "cell_type": "code",
   "execution_count": 545,
   "metadata": {},
   "outputs": [
    {
     "data": {
      "text/plain": [
       "Index(['Name', 'Year', 'Duration', 'Genre', 'Rating', 'Votes', 'Director',\n",
       "       'Actor 1', 'Actor 2', 'Actor 3'],\n",
       "      dtype='object')"
      ]
     },
     "execution_count": 545,
     "metadata": {},
     "output_type": "execute_result"
    }
   ],
   "source": [
    "# Get the column labels of the DataFrame\n",
    "df.columns"
   ]
  },
  {
   "cell_type": "markdown",
   "metadata": {},
   "source": [
    "## Dataset Information\n",
    "\n",
    "The dataset contains movie rating prediction data and Upon inspecting the dataset using the `df.info()` command, the current data types of the columns are as follows:\n",
    "\n",
    "- 'Name': object\n",
    "- 'Year': object\n",
    "- 'Duration': object\n",
    "- 'Genre': object\n",
    "- 'Rating': float64\n",
    "- 'Votes': object\n",
    "- 'Director': object\n",
    "- 'Actor 1', 'Actor 2', 'Actor 3': object\n",
    "\n",
    "To ensure proper analysis during the exploratory data analysis (EDA) process, it is recommended to change the data types of certain columns as follows:\n",
    "\n",
    "- 'Name': Change the data type to 'category'.\n",
    "- 'Year': Change the data type to 'int'.\n",
    "- 'Duration': Change the data type to 'int'.\n",
    "- 'Genre': Change the data type to 'category'.\n",
    "- 'Rating': Change the data type to either 'float' or 'int', depending on whether decimal values are present.\n",
    "- 'Votes': Change the data type to 'int'.\n",
    "- 'Director': Change the data type to 'category'.\n",
    "- 'Actor 1', 'Actor 2', 'Actor 3': Change the data types to 'category'.\n",
    "\n",
    "By adjusting the data types accordingly, we can improve memory efficiency and ensure accurate analysis."
   ]
  },
  {
   "cell_type": "code",
   "execution_count": 546,
   "metadata": {},
   "outputs": [
    {
     "data": {
      "text/plain": [
       "Name           0\n",
       "Year         528\n",
       "Duration    8269\n",
       "Genre       1877\n",
       "Rating      7590\n",
       "Votes       7589\n",
       "Director     525\n",
       "Actor 1     1617\n",
       "Actor 2     2384\n",
       "Actor 3     3144\n",
       "dtype: int64"
      ]
     },
     "execution_count": 546,
     "metadata": {},
     "output_type": "execute_result"
    }
   ],
   "source": [
    "# Display the sum of all null values in dataset\n",
    "df.isnull().sum()"
   ]
  },
  {
   "cell_type": "code",
   "execution_count": 547,
   "metadata": {},
   "outputs": [
    {
     "data": {
      "text/plain": [
       "Director\n",
       "Jayant Desai        58\n",
       "Kanti Shah          57\n",
       "Babubhai Mistry     50\n",
       "Mahesh Bhatt        48\n",
       "Master Bhagwan      47\n",
       "Nanabhai Bhatt      46\n",
       "Dhirubhai Desai     46\n",
       "B.R. Ishara         44\n",
       "David Dhawan        44\n",
       "Mohammed Hussain    44\n",
       "Name: count, dtype: int64"
      ]
     },
     "execution_count": 547,
     "metadata": {},
     "output_type": "execute_result"
    }
   ],
   "source": [
    "# Get the value counts for each director and sort the values in descending ordert\n",
    "top_directors=df['Director'].value_counts().sort_values(ascending=False).head(10)\n",
    "top_directors"
   ]
  },
  {
   "cell_type": "code",
   "execution_count": 570,
   "metadata": {},
   "outputs": [
    {
     "data": {
      "image/png": "[encoded data removed]",
      "text/plain": [
       "<Figure size 1600x600 with 1 Axes>"
      ]
     },
     "metadata": {},
     "output_type": "display_data"
    }
   ],
   "source": [
    "plt.figure(figsize=(16, 6)) # make figure size\n",
    "# Extract the top 10 directors with the most occurrences in the 'Director' column\n",
    "top_directors=df['Director'].value_counts().sort_values(ascending=False).head(10)\n",
    "top_directors.plot(kind='bar') # Plotting the data as a bar plot\n",
    "plt.xlabel('Director') # add the x-axis labels\n",
    "plt.ylabel('Number Of Movies') # add the labels for y-axis\n",
    "plt.title('Top 10 Director with the most movies')  # add the title for the plot\n",
    "plt.xticks(rotation=45)  # Rotating x-axis labels by 45 degrees\n",
    "plt.show()"
   ]
  },
  {
   "cell_type": "code",
   "execution_count": 549,
   "metadata": {},
   "outputs": [
    {
     "data": {
      "image/png": "[encoded data removed]",
      "text/plain": [
       "<Figure size 1600x600 with 1 Axes>"
      ]
     },
     "metadata": {},
     "output_type": "display_data"
    }
   ],
   "source": [
    "plt.figure(figsize=(16, 6)) # make figure size\n",
    "# Extract the top 10 Actors with the most occurrences in the 'Actor 1' column\n",
    "top_directors=df['Actor 1'].value_counts().sort_values(ascending=False).head(10)\n",
    "top_directors.plot(kind='bar') # Plotting the data as a bar plot\n",
    "plt.xlabel('Actor 1') # add the x-axis labels\n",
    "plt.ylabel('Number Of Movies') # add the labels for y-axis\n",
    "plt.title('Top 10 Actors with the most movies')  # add the title for the plot\n",
    "plt.xticks(rotation=45)  # Rotating x-axis labels by 45 degrees\n",
    "plt.show()\n"
   ]
  },
  {
   "cell_type": "code",
   "execution_count": 550,
   "metadata": {},
   "outputs": [
    {
     "data": {
      "text/plain": [
       "Duration    53.317429\n",
       "Rating      48.939326\n",
       "Votes       48.932878\n",
       "Actor 3     20.272100\n",
       "Actor 2     15.371720\n",
       "Genre       12.102650\n",
       "Actor 1     10.426204\n",
       "Year         3.404475\n",
       "Director     3.385131\n",
       "Name         0.000000\n",
       "dtype: float64"
      ]
     },
     "execution_count": 550,
     "metadata": {},
     "output_type": "execute_result"
    }
   ],
   "source": [
    "# Calculate the percentage of missing values in each column\n",
    "(df.isnull().sum() / len(df) * 100).sort_values(ascending=False) \n",
    "# Remark: This line calculates the percentage of missing values in each column and sorts them in descending order"
   ]
  },
  {
   "cell_type": "code",
   "execution_count": 551,
   "metadata": {},
   "outputs": [
    {
     "data": {
      "text/plain": [
       "array([nan, '109 min', '90 min', '110 min', '105 min', '147 min',\n",
       "       '142 min', '59 min', '82 min', '116 min', '96 min', '120 min',\n",
       "       '161 min', '166 min', '102 min', '87 min', '132 min', '66 min',\n",
       "       '146 min', '112 min', '168 min', '158 min', '126 min', '94 min',\n",
       "       '138 min', '124 min', '144 min', '157 min', '136 min', '107 min',\n",
       "       '113 min', '80 min', '122 min', '149 min', '148 min', '130 min',\n",
       "       '121 min', '188 min', '115 min', '103 min', '114 min', '170 min',\n",
       "       '100 min', '99 min', '140 min', '128 min', '93 min', '125 min',\n",
       "       '145 min', '75 min', '111 min', '134 min', '85 min', '104 min',\n",
       "       '92 min', '137 min', '127 min', '150 min', '119 min', '135 min',\n",
       "       '86 min', '76 min', '70 min', '72 min', '151 min', '95 min',\n",
       "       '52 min', '89 min', '143 min', '177 min', '117 min', '123 min',\n",
       "       '154 min', '88 min', '175 min', '153 min', '78 min', '139 min',\n",
       "       '133 min', '101 min', '180 min', '60 min', '46 min', '164 min',\n",
       "       '162 min', '171 min', '160 min', '152 min', '62 min', '163 min',\n",
       "       '165 min', '141 min', '210 min', '129 min', '156 min', '240 min',\n",
       "       '172 min', '155 min', '118 min', '167 min', '106 min', '193 min',\n",
       "       '57 min', '108 min', '45 min', '195 min', '174 min', '81 min',\n",
       "       '178 min', '58 min', '184 min', '97 min', '98 min', '131 min',\n",
       "       '176 min', '169 min', '77 min', '91 min', '84 min', '173 min',\n",
       "       '74 min', '67 min', '181 min', '300 min', '79 min', '65 min',\n",
       "       '48 min', '183 min', '159 min', '83 min', '68 min', '49 min',\n",
       "       '201 min', '64 min', '186 min', '50 min', '69 min', '207 min',\n",
       "       '55 min', '61 min', '185 min', '187 min', '216 min', '63 min',\n",
       "       '54 min', '198 min', '51 min', '71 min', '73 min', '218 min',\n",
       "       '191 min', '321 min', '199 min', '53 min', '56 min', '179 min',\n",
       "       '47 min', '206 min', '190 min', '211 min', '247 min', '213 min',\n",
       "       '223 min', '2 min', '189 min', '224 min', '202 min', '255 min',\n",
       "       '197 min', '182 min', '214 min', '208 min', '21 min', '200 min',\n",
       "       '192 min', '37 min', '261 min', '238 min', '204 min', '235 min',\n",
       "       '298 min', '217 min', '250 min'], dtype=object)"
      ]
     },
     "execution_count": 551,
     "metadata": {},
     "output_type": "execute_result"
    }
   ],
   "source": [
    "# Calculate the number of unique values in Duration column of the DataFrame\n",
    "df['Duration'].unique()"
   ]
  },
  {
   "cell_type": "code",
   "execution_count": 552,
   "metadata": {},
   "outputs": [
    {
     "data": {
      "text/plain": [
       "182"
      ]
     },
     "execution_count": 552,
     "metadata": {},
     "output_type": "execute_result"
    }
   ],
   "source": [
    "df['Duration'] = df['Duration'].astype(str)\n",
    "# Replacing ' min' and converting to integers, handling NaN values\n",
    "df['Duration'] = df['Duration'].str.replace(' min', '', regex=False)\n",
    "df['Duration'] = pd.to_numeric(df['Duration'], errors='coerce').astype('Int64')\n",
    "# Displaying sum of unique values\n",
    "df['Duration'].nunique()\n"
   ]
  },
  {
   "cell_type": "code",
   "execution_count": 553,
   "metadata": {},
   "outputs": [
    {
     "data": {
      "text/plain": [
       "0"
      ]
     },
     "execution_count": 553,
     "metadata": {},
     "output_type": "execute_result"
    }
   ],
   "source": [
    "# Convert the 'Duration' column to float data type\n",
    "df['Duration']=df['Duration'].astype(float)\n",
    "# Fill missing values in the 'Duration' column with the mean of existing values\n",
    "df['Duration'].fillna(df['Duration'].mean(),inplace=True)\n",
    "# Check the number of remaining null values in the 'Duration' column\n",
    "df['Duration'].isnull().sum()"
   ]
  },
  {
   "cell_type": "code",
   "execution_count": 554,
   "metadata": {},
   "outputs": [
    {
     "data": {
      "text/plain": [
       "array([nan, '8', '35', ..., '70,344', '408', '1,496'], dtype=object)"
      ]
     },
     "execution_count": 554,
     "metadata": {},
     "output_type": "execute_result"
    }
   ],
   "source": [
    "# Displaying unique values in Votes column\n",
    "df['Votes'].unique()"
   ]
  },
  {
   "cell_type": "code",
   "execution_count": 555,
   "metadata": {},
   "outputs": [
    {
     "data": {
      "text/plain": [
       "0"
      ]
     },
     "execution_count": 555,
     "metadata": {},
     "output_type": "execute_result"
    }
   ],
   "source": [
    "# Remove commas from 'Votes' column if present\n",
    "df['Votes'] = df['Votes'].apply(lambda x: x.replace(',', '') if ',' in str(x) else x)\n",
    "# Remove dollar signs from 'Votes' column if present\n",
    "df['Votes'] = df['Votes'].apply(lambda x: x.replace('$', '') if '$' in str(x) else x)\n",
    "# Remove 'M' (indicating millions) from 'Votes' column if present\n",
    "df['Votes'] = df['Votes'].apply(lambda x: x.replace('M', '') if 'M' in str(x) else x)\n",
    "# Convert 'Votes' to float type\n",
    "df['Votes']=df['Votes'].astype(float)\n",
    "# Fill missing values in the 'Votes' column with the mean of existing values\n",
    "df['Votes'].fillna(df['Votes'].mean(),inplace=True)\n",
    "df['Votes'].isnull().sum() # Check the number of remaining null values in the 'Votes' column"
   ]
  },
  {
   "cell_type": "code",
   "execution_count": 556,
   "metadata": {},
   "outputs": [
    {
     "name": "stdout",
     "output_type": "stream",
     "text": [
      "Number of null values in 'Year' column: 0\n"
     ]
    }
   ],
   "source": [
    "# Convert 'Year' column to string\n",
    "df['Year'] = df['Year'].astype(str)\n",
    "# Remove non-numeric characters and convert to integers, handling empty strings and NaN\n",
    "def clean_year(year):\n",
    "    year = ''.join(filter(str.isdigit, year))\n",
    "    if year:\n",
    "        return int(year)\n",
    "    return np.nan\n",
    "df['Year'] = df['Year'].apply(clean_year)\n",
    "# Filling NaN values with the mean of the column\n",
    "df['Year'].fillna(df['Year'].mean(), inplace=True)\n",
    "# Checking for null values after filling NaN\n",
    "null_values_count = df['Year'].isnull().sum()\n",
    "print(\"Number of null values in 'Year' column:\", null_values_count)"
   ]
  },
  {
   "cell_type": "code",
   "execution_count": 557,
   "metadata": {},
   "outputs": [
    {
     "data": {
      "text/plain": [
       "0        5.841621\n",
       "1        7.000000\n",
       "2        5.841621\n",
       "3        4.400000\n",
       "4        5.841621\n",
       "           ...   \n",
       "15504    4.600000\n",
       "15505    4.500000\n",
       "15506    5.841621\n",
       "15507    5.841621\n",
       "15508    6.200000\n",
       "Name: Rating, Length: 15509, dtype: float64"
      ]
     },
     "execution_count": 557,
     "metadata": {},
     "output_type": "execute_result"
    }
   ],
   "source": [
    "# Fill missing values in the 'Rating' column with the mean of existing values\n",
    "df['Rating'].fillna(df['Rating'].mean(), inplace=True)\n",
    "df['Rating']"
   ]
  },
  {
   "cell_type": "code",
   "execution_count": 558,
   "metadata": {},
   "outputs": [
    {
     "data": {
      "text/html": [
       "<div>\n",
       "<style scoped>\n",
       "    .dataframe tbody tr th:only-of-type {\n",
       "        vertical-align: middle;\n",
       "    }\n",
       "\n",
       "    .dataframe tbody tr th {\n",
       "        vertical-align: top;\n",
       "    }\n",
       "\n",
       "    .dataframe thead th {\n",
       "        text-align: right;\n",
       "    }\n",
       "</style>\n",
       "<table border=\"1\" class=\"dataframe\">\n",
       "  <thead>\n",
       "    <tr style=\"text-align: right;\">\n",
       "      <th></th>\n",
       "      <th>Year</th>\n",
       "      <th>Duration</th>\n",
       "      <th>Rating</th>\n",
       "      <th>Votes</th>\n",
       "    </tr>\n",
       "  </thead>\n",
       "  <tbody>\n",
       "    <tr>\n",
       "      <th>count</th>\n",
       "      <td>15509.000000</td>\n",
       "      <td>15509.000000</td>\n",
       "      <td>15509.000000</td>\n",
       "      <td>15509.000000</td>\n",
       "    </tr>\n",
       "    <tr>\n",
       "      <th>mean</th>\n",
       "      <td>1987.012215</td>\n",
       "      <td>128.126519</td>\n",
       "      <td>5.841621</td>\n",
       "      <td>1938.276283</td>\n",
       "    </tr>\n",
       "    <tr>\n",
       "      <th>std</th>\n",
       "      <td>24.980261</td>\n",
       "      <td>19.753788</td>\n",
       "      <td>0.987343</td>\n",
       "      <td>8290.467955</td>\n",
       "    </tr>\n",
       "    <tr>\n",
       "      <th>min</th>\n",
       "      <td>1913.000000</td>\n",
       "      <td>2.000000</td>\n",
       "      <td>1.100000</td>\n",
       "      <td>5.000000</td>\n",
       "    </tr>\n",
       "    <tr>\n",
       "      <th>25%</th>\n",
       "      <td>1969.000000</td>\n",
       "      <td>128.126519</td>\n",
       "      <td>5.841621</td>\n",
       "      <td>52.000000</td>\n",
       "    </tr>\n",
       "    <tr>\n",
       "      <th>50%</th>\n",
       "      <td>1990.000000</td>\n",
       "      <td>128.126519</td>\n",
       "      <td>5.841621</td>\n",
       "      <td>1938.276283</td>\n",
       "    </tr>\n",
       "    <tr>\n",
       "      <th>75%</th>\n",
       "      <td>2008.000000</td>\n",
       "      <td>129.000000</td>\n",
       "      <td>6.000000</td>\n",
       "      <td>1938.276283</td>\n",
       "    </tr>\n",
       "    <tr>\n",
       "      <th>max</th>\n",
       "      <td>2022.000000</td>\n",
       "      <td>321.000000</td>\n",
       "      <td>10.000000</td>\n",
       "      <td>591417.000000</td>\n",
       "    </tr>\n",
       "  </tbody>\n",
       "</table>\n",
       "</div>"
      ],
      "text/plain": [
       "               Year      Duration        Rating          Votes\n",
       "count  15509.000000  15509.000000  15509.000000   15509.000000\n",
       "mean    1987.012215    128.126519      5.841621    1938.276283\n",
       "std       24.980261     19.753788      0.987343    8290.467955\n",
       "min     1913.000000      2.000000      1.100000       5.000000\n",
       "25%     1969.000000    128.126519      5.841621      52.000000\n",
       "50%     1990.000000    128.126519      5.841621    1938.276283\n",
       "75%     2008.000000    129.000000      6.000000    1938.276283\n",
       "max     2022.000000    321.000000     10.000000  591417.000000"
      ]
     },
     "execution_count": 558,
     "metadata": {},
     "output_type": "execute_result"
    }
   ],
   "source": [
    "# Display summary statistics for numerical columns in the DataFrame\n",
    "df.describe() \n",
    "#it also shows that we have converted Year, Duration and Votes columns into Numeric Data type."
   ]
  },
  {
   "cell_type": "code",
   "execution_count": 559,
   "metadata": {},
   "outputs": [
    {
     "data": {
      "image/png": "[encoded data removed]",
      "text/plain": [
       "<Figure size 1600x1000 with 2 Axes>"
      ]
     },
     "metadata": {},
     "output_type": "display_data"
    }
   ],
   "source": [
    "# Make a correlation matrix of numeric columns\n",
    "plt.figure(figsize=(16, 10)) # make figure size  \n",
    "numeric_cols = ['Rating', 'Year', 'Duration', 'Votes'] # make a list of numeric columns\n",
    "sns.heatmap(df[numeric_cols].corr(), annot=True) # plot the correlation matrix\n",
    "plt.show()"
   ]
  },
  {
   "cell_type": "code",
   "execution_count": 560,
   "metadata": {},
   "outputs": [
    {
     "data": {
      "text/plain": [
       "0                Manmauji\n",
       "1            Rasika Dugal\n",
       "2            Sayani Gupta\n",
       "3                 Prateik\n",
       "4            Rajat Kapoor\n",
       "               ...       \n",
       "15504    Naseeruddin Shah\n",
       "15505        Akshay Kumar\n",
       "15506     Sangeeta Tiwari\n",
       "15507                 NaN\n",
       "15508          Dharmendra\n",
       "Name: Actor 1, Length: 15509, dtype: object"
      ]
     },
     "execution_count": 560,
     "metadata": {},
     "output_type": "execute_result"
    }
   ],
   "source": [
    "df['Actor 1']"
   ]
  },
  {
   "cell_type": "code",
   "execution_count": 561,
   "metadata": {},
   "outputs": [],
   "source": [
    "from sklearn.preprocessing import LabelEncoder  # Import LabelEncoder for encoding categorical variables\n",
    "from sklearn.tree import DecisionTreeClassifier # Import DecisionTreeClassifier for decision tree-based classification\n",
    "from sklearn.ensemble import RandomForestClassifier   # Import RandomForestClassifier for random forest-based classification\n",
    "from sklearn.neighbors import KNeighborsClassifier # Import KNeighborsClassifier for k-nearest neighbors classification\n",
    "from sklearn.linear_model import LinearRegression,LogisticRegression # Import LinearRegression and LogisticRegression for regression and logistic regression respectively\n",
    "from sklearn.svm import SVC # Import SVC for support vector classification"
   ]
  },
  {
   "cell_type": "code",
   "execution_count": 562,
   "metadata": {},
   "outputs": [
    {
     "data": {
      "text/plain": [
       "Name           0\n",
       "Year           0\n",
       "Duration       0\n",
       "Genre       1877\n",
       "Rating         0\n",
       "Votes          0\n",
       "Director     525\n",
       "Actor 1     1617\n",
       "Actor 2     2384\n",
       "Actor 3     3144\n",
       "dtype: int64"
      ]
     },
     "execution_count": 562,
     "metadata": {},
     "output_type": "execute_result"
    }
   ],
   "source": [
    "df.isnull().sum()"
   ]
  },
  {
   "cell_type": "code",
   "execution_count": 563,
   "metadata": {},
   "outputs": [
    {
     "data": {
      "text/plain": [
       "Name           0\n",
       "Year           0\n",
       "Duration       0\n",
       "Genre       1877\n",
       "Rating         0\n",
       "Votes          0\n",
       "Director     525\n",
       "Actor 1     1617\n",
       "Actor 2     2384\n",
       "Actor 3     3144\n",
       "dtype: int64"
      ]
     },
     "execution_count": 563,
     "metadata": {},
     "output_type": "execute_result"
    }
   ],
   "source": [
    "import pandas as pd\n",
    "# Your DataFrame 'df' with a column 'ColumnName' containing NaN values\n",
    "# Removing NaN values from the 'ColumnName' column\n",
    "df.dropna(subset=['Year'], inplace=True)\n",
    "df.dropna(subset=['Duration'], inplace=True)\n",
    "df.dropna(subset=['Votes'], inplace=True)\n",
    "df.isnull().sum()\n",
    "\n"
   ]
  },
  {
   "cell_type": "code",
   "execution_count": 564,
   "metadata": {},
   "outputs": [],
   "source": [
    "# Split adnd store the columns into input and output variable\n",
    "X = df[['Year','Duration','Votes' ]]\n",
    "Y=df['Rating']"
   ]
  },
  {
   "cell_type": "code",
   "execution_count": 565,
   "metadata": {},
   "outputs": [],
   "source": [
    "from sklearn.model_selection import train_test_split\n",
    "#  X and Y contain feature matrix and target variable respectively\n",
    "# Split the data into training and testing sets\n",
    "X_train, X_test, y_train, y_test = train_test_split(X, Y, test_size=0.2, random_state=42)\n",
    "# Define a list of models\n",
    "models = [LinearRegression(),LogisticRegression()]\n",
    "# Define corresponding names for the models\n",
    "model_names = ['Linear Regression', 'SVM', 'Decision Tree', 'Random Forest', 'KNN']\n"
   ]
  },
  {
   "cell_type": "code",
   "execution_count": 566,
   "metadata": {},
   "outputs": [
    {
     "data": {
      "text/plain": [
       "array([5.84733097, 5.69602269, 6.055234  , ..., 5.84733097, 5.80943235,\n",
       "       5.75514403])"
      ]
     },
     "execution_count": 566,
     "metadata": {},
     "output_type": "execute_result"
    }
   ],
   "source": [
    "# Instantiate a Linear Regression model\n",
    "model=LinearRegression()\n",
    "# Train the model using the training data\n",
    "model.fit(X_train, y_train)\n",
    "# Use the trained model to predict values for the test data\n",
    "y_pred = model.predict(X_test)\n",
    "y_pred"
   ]
  },
  {
   "cell_type": "code",
   "execution_count": 567,
   "metadata": {},
   "outputs": [
    {
     "name": "stdout",
     "output_type": "stream",
     "text": [
      "Mean Absolute Error (MAE): 0.5962627583507992\n"
     ]
    }
   ],
   "source": [
    "from sklearn.metrics import mean_absolute_error\n",
    "# Assuming y_test and y_pred are your true target values and predicted values, respectively\n",
    "mae = mean_absolute_error(y_test, y_pred)\n",
    "print(f\"Mean Absolute Error (MAE): {mae}\")"
   ]
  },
  {
   "cell_type": "code",
   "execution_count": 568,
   "metadata": {},
   "outputs": [
    {
     "data": {
      "text/plain": [
       "{'copy_X': True, 'fit_intercept': True, 'n_jobs': None, 'positive': False}"
      ]
     },
     "execution_count": 568,
     "metadata": {},
     "output_type": "execute_result"
    }
   ],
   "source": [
    "\n",
    "# Get the parameters of the Linear Regression model\n",
    "model.get_params()"
   ]
  },
  {
   "cell_type": "code",
   "execution_count": 569,
   "metadata": {},
   "outputs": [
    {
     "name": "stdout",
     "output_type": "stream",
     "text": [
      "Best Parameters:  {'copy_X': True, 'fit_intercept': True}\n",
      "Best Score:  0.025288500880801545\n"
     ]
    }
   ],
   "source": [
    "from sklearn.model_selection import GridSearchCV\n",
    "import numpy as np\n",
    "#create a model\n",
    "model = LinearRegression()\n",
    "# define parameter grid\n",
    "param_grid = {'copy_X':[ True, False], 'fit_intercept': [True,False] }\n",
    "#object grid search cv (Creating the model)\n",
    "grid_search = GridSearchCV(model, param_grid,cv=5 )\n",
    "#traing the model\n",
    "grid_search.fit(X,Y)\n",
    "# print the best parameters\n",
    "print(\"Best Parameters: \", grid_search.best_params_)\n",
    "print(\"Best Score: \", grid_search.best_score_)"
   ]
  }
 ],
 "metadata": {
  "kernelspec": {
   "display_name": "base",
   "language": "python",
   "name": "python3"
  },
  "language_info": {
   "codemirror_mode": {
    "name": "ipython",
    "version": 3
   },
   "file_extension": ".py",
   "mimetype": "text/x-python",
   "name": "python",
   "nbconvert_exporter": "python",
   "pygments_lexer": "ipython3",
   "version": "3.11.4"
  },
  "orig_nbformat": 4
 },
 "nbformat": 4,
 "nbformat_minor": 2
}
